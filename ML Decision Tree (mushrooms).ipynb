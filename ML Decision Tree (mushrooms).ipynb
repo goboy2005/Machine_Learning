{
 "cells": [
  {
   "cell_type": "code",
   "execution_count": 1,
   "metadata": {},
   "outputs": [],
   "source": [
    "import pandas as pd  # 데이터 전처리를 위해서 \n",
    "import seaborn as sns # 시각화를 위해서 \n",
    "\n",
    "df = pd.read_csv('c:\\\\data\\\\mushrooms.csv')"
   ]
  },
  {
   "cell_type": "code",
   "execution_count": 2,
   "metadata": {},
   "outputs": [
    {
     "name": "stdout",
     "output_type": "stream",
     "text": [
      "      type_edible  type_poisonous  cap_shape_bell  cap_shape_conical  \\\n",
      "0               0               1               0                  0   \n",
      "1               1               0               0                  0   \n",
      "2               1               0               1                  0   \n",
      "3               0               1               0                  0   \n",
      "4               1               0               0                  0   \n",
      "...           ...             ...             ...                ...   \n",
      "8119            1               0               0                  0   \n",
      "8120            1               0               0                  0   \n",
      "8121            1               0               0                  0   \n",
      "8122            0               1               0                  0   \n",
      "8123            1               0               0                  0   \n",
      "\n",
      "      cap_shape_convex  cap_shape_flat  cap_shape_knobbed  cap_shape_sunken  \\\n",
      "0                    1               0                  0                 0   \n",
      "1                    1               0                  0                 0   \n",
      "2                    0               0                  0                 0   \n",
      "3                    1               0                  0                 0   \n",
      "4                    1               0                  0                 0   \n",
      "...                ...             ...                ...               ...   \n",
      "8119                 0               0                  1                 0   \n",
      "8120                 1               0                  0                 0   \n",
      "8121                 0               1                  0                 0   \n",
      "8122                 0               0                  1                 0   \n",
      "8123                 1               0                  0                 0   \n",
      "\n",
      "      cap_surface_fibrous  cap_surface_grooves  ...  population_scattered  \\\n",
      "0                       0                    0  ...                     1   \n",
      "1                       0                    0  ...                     0   \n",
      "2                       0                    0  ...                     0   \n",
      "3                       0                    0  ...                     1   \n",
      "4                       0                    0  ...                     0   \n",
      "...                   ...                  ...  ...                   ...   \n",
      "8119                    0                    0  ...                     0   \n",
      "8120                    0                    0  ...                     0   \n",
      "8121                    0                    0  ...                     0   \n",
      "8122                    0                    0  ...                     0   \n",
      "8123                    0                    0  ...                     0   \n",
      "\n",
      "      population_several  population_solitary  habitat_grasses  \\\n",
      "0                      0                    0                0   \n",
      "1                      0                    0                1   \n",
      "2                      0                    0                0   \n",
      "3                      0                    0                0   \n",
      "4                      0                    0                1   \n",
      "...                  ...                  ...              ...   \n",
      "8119                   0                    0                0   \n",
      "8120                   1                    0                0   \n",
      "8121                   0                    0                0   \n",
      "8122                   1                    0                0   \n",
      "8123                   0                    0                0   \n",
      "\n",
      "      habitat_leaves  habitat_meadows  habitat_paths  habitat_urban  \\\n",
      "0                  0                0              0              1   \n",
      "1                  0                0              0              0   \n",
      "2                  0                1              0              0   \n",
      "3                  0                0              0              1   \n",
      "4                  0                0              0              0   \n",
      "...              ...              ...            ...            ...   \n",
      "8119               1                0              0              0   \n",
      "8120               1                0              0              0   \n",
      "8121               1                0              0              0   \n",
      "8122               1                0              0              0   \n",
      "8123               1                0              0              0   \n",
      "\n",
      "      habitat_waste  habitat_woods  \n",
      "0                 0              0  \n",
      "1                 0              0  \n",
      "2                 0              0  \n",
      "3                 0              0  \n",
      "4                 0              0  \n",
      "...             ...            ...  \n",
      "8119              0              0  \n",
      "8120              0              0  \n",
      "8121              0              0  \n",
      "8122              0              0  \n",
      "8123              0              0  \n",
      "\n",
      "[8124 rows x 119 columns]\n",
      "(8124, 119)\n"
     ]
    }
   ],
   "source": [
    "df = pd.get_dummies(df)\n",
    "#print(df.shape)  # (8124, 23)\n",
    "print(df)\n",
    "print(df.shape) # (8124, 119)\n",
    "\n",
    "# get_dummies 함수를 이용해서 값의 종류에 따라 \n",
    "# 전부 0 아니면 1로 변환함 "
   ]
  },
  {
   "cell_type": "code",
   "execution_count": 3,
   "metadata": {},
   "outputs": [
    {
     "name": "stdout",
     "output_type": "stream",
     "text": [
      "(8124, 119)\n",
      "<class 'pandas.core.frame.DataFrame'>\n",
      "RangeIndex: 8124 entries, 0 to 8123\n",
      "Columns: 119 entries, type_edible to habitat_woods\n",
      "dtypes: uint8(119)\n",
      "memory usage: 944.2 KB\n",
      "None\n",
      "       type_edible  type_poisonous  cap_shape_bell  cap_shape_conical  \\\n",
      "count  8124.000000     8124.000000     8124.000000        8124.000000   \n",
      "mean      0.517971        0.482029        0.055638           0.000492   \n",
      "std       0.499708        0.499708        0.229235           0.022185   \n",
      "min       0.000000        0.000000        0.000000           0.000000   \n",
      "25%       0.000000        0.000000        0.000000           0.000000   \n",
      "50%       1.000000        0.000000        0.000000           0.000000   \n",
      "75%       1.000000        1.000000        0.000000           0.000000   \n",
      "max       1.000000        1.000000        1.000000           1.000000   \n",
      "\n",
      "       cap_shape_convex  cap_shape_flat  cap_shape_knobbed  cap_shape_sunken  \\\n",
      "count       8124.000000     8124.000000        8124.000000       8124.000000   \n",
      "mean           0.450025        0.387986           0.101920          0.003939   \n",
      "std            0.497527        0.487321           0.302562          0.062641   \n",
      "min            0.000000        0.000000           0.000000          0.000000   \n",
      "25%            0.000000        0.000000           0.000000          0.000000   \n",
      "50%            0.000000        0.000000           0.000000          0.000000   \n",
      "75%            1.000000        1.000000           0.000000          0.000000   \n",
      "max            1.000000        1.000000           1.000000          1.000000   \n",
      "\n",
      "       cap_surface_fibrous  cap_surface_grooves  ...  population_scattered  \\\n",
      "count          8124.000000          8124.000000  ...           8124.000000   \n",
      "mean              0.285574             0.000492  ...              0.153619   \n",
      "std               0.451715             0.022185  ...              0.360605   \n",
      "min               0.000000             0.000000  ...              0.000000   \n",
      "25%               0.000000             0.000000  ...              0.000000   \n",
      "50%               0.000000             0.000000  ...              0.000000   \n",
      "75%               1.000000             0.000000  ...              0.000000   \n",
      "max               1.000000             1.000000  ...              1.000000   \n",
      "\n",
      "       population_several  population_solitary  habitat_grasses  \\\n",
      "count         8124.000000          8124.000000      8124.000000   \n",
      "mean             0.497292             0.210734         0.264402   \n",
      "std              0.500023             0.407855         0.441041   \n",
      "min              0.000000             0.000000         0.000000   \n",
      "25%              0.000000             0.000000         0.000000   \n",
      "50%              0.000000             0.000000         0.000000   \n",
      "75%              1.000000             0.000000         1.000000   \n",
      "max              1.000000             1.000000         1.000000   \n",
      "\n",
      "       habitat_leaves  habitat_meadows  habitat_paths  habitat_urban  \\\n",
      "count     8124.000000      8124.000000    8124.000000    8124.000000   \n",
      "mean         0.102413         0.035943       0.140817       0.045298   \n",
      "std          0.303209         0.186159       0.347854       0.207969   \n",
      "min          0.000000         0.000000       0.000000       0.000000   \n",
      "25%          0.000000         0.000000       0.000000       0.000000   \n",
      "50%          0.000000         0.000000       0.000000       0.000000   \n",
      "75%          0.000000         0.000000       0.000000       0.000000   \n",
      "max          1.000000         1.000000       1.000000       1.000000   \n",
      "\n",
      "       habitat_waste  habitat_woods  \n",
      "count    8124.000000    8124.000000  \n",
      "mean        0.023634       0.387494  \n",
      "std         0.151914       0.487208  \n",
      "min         0.000000       0.000000  \n",
      "25%         0.000000       0.000000  \n",
      "50%         0.000000       0.000000  \n",
      "75%         0.000000       1.000000  \n",
      "max         1.000000       1.000000  \n",
      "\n",
      "[8 rows x 119 columns]\n"
     ]
    }
   ],
   "source": [
    "# DataFrame 확인\n",
    "print(df.shape)  # (8124, 23)\n",
    "print(df.info())  # 전부 object (문자)형으로 되어있음\n",
    "print(df.describe())"
   ]
  },
  {
   "cell_type": "code",
   "execution_count": 4,
   "metadata": {},
   "outputs": [
    {
     "name": "stdout",
     "output_type": "stream",
     "text": [
      "[[0 0 1 ... 1 0 0]\n",
      " [0 0 1 ... 0 0 0]\n",
      " [1 0 0 ... 0 0 0]\n",
      " ...\n",
      " [0 0 0 ... 0 0 0]\n",
      " [0 0 0 ... 0 0 0]\n",
      " [0 0 1 ... 0 0 0]]\n",
      "[1 0 0 ... 0 1 0]\n",
      "(8124, 119)\n",
      "8124\n",
      "8124\n"
     ]
    }
   ],
   "source": [
    "# X = 전체 행, 마지막 열 제외한 모든 열 데이터 -> n차원 공간의 포인트\n",
    "X = df.iloc[:,2:].to_numpy() \n",
    "y = df.iloc[:,1].to_numpy()   \n",
    "print(X)\n",
    "print(y)\n",
    "\n",
    "print(df.shape)  # (8124, 119)\n",
    "print(len(X))  # 8124\n",
    "print(len(y))  # 8124"
   ]
  },
  {
   "cell_type": "code",
   "execution_count": 5,
   "metadata": {},
   "outputs": [
    {
     "name": "stdout",
     "output_type": "stream",
     "text": [
      "[[-0.24272523 -0.02219484  1.10548662 ...  4.59086996 -0.15558197\n",
      "  -0.7953846 ]\n",
      " [-0.24272523 -0.02219484  1.10548662 ... -0.21782364 -0.15558197\n",
      "  -0.7953846 ]\n",
      " [ 4.11988487 -0.02219484 -0.90457902 ... -0.21782364 -0.15558197\n",
      "  -0.7953846 ]\n",
      " ...\n",
      " [-0.24272523 -0.02219484 -0.90457902 ... -0.21782364 -0.15558197\n",
      "  -0.7953846 ]\n",
      " [-0.24272523 -0.02219484 -0.90457902 ... -0.21782364 -0.15558197\n",
      "  -0.7953846 ]\n",
      " [-0.24272523 -0.02219484  1.10548662 ... -0.21782364 -0.15558197\n",
      "  -0.7953846 ]]\n"
     ]
    }
   ],
   "source": [
    "from sklearn import preprocessing \n",
    "\n",
    "X=preprocessing.StandardScaler().fit(X).transform(X)  \n",
    "print(X)\n",
    "#X=preprocessing.MinMaxScaler().fit(X).transform(X) \n"
   ]
  },
  {
   "cell_type": "code",
   "execution_count": 6,
   "metadata": {},
   "outputs": [
    {
     "name": "stdout",
     "output_type": "stream",
     "text": [
      "(6093, 117)\n",
      "(6093,)\n"
     ]
    }
   ],
   "source": [
    "from sklearn.model_selection import train_test_split \n",
    "                                                                                     \n",
    "# 훈련 데이터 75, 테스트 데이터 25으로 나눈다. \n",
    "X_train, X_test, y_train, y_test = train_test_split(X,y,test_size=0.25, random_state = 10)\n",
    "\n",
    "print(X_train.shape)   # (6093, 22)\n",
    "print(y_train.shape)   # (6093,)\n"
   ]
  },
  {
   "cell_type": "code",
   "execution_count": 7,
   "metadata": {},
   "outputs": [],
   "source": [
    "# sklearn 라이브러리에서 Decision Tree 분류 모형 가져오기\n",
    "from sklearn import tree\n",
    "\n",
    "\n",
    "#  의사결정트리 분류기를 생성 (criterion='entropy' 적용)\n",
    "classifier = tree.DecisionTreeClassifier(criterion='entropy', max_depth=5)\n"
   ]
  },
  {
   "cell_type": "code",
   "execution_count": 8,
   "metadata": {},
   "outputs": [
    {
     "name": "stdout",
     "output_type": "stream",
     "text": [
      "[0 1 0 ... 0 1 1]\n"
     ]
    }
   ],
   "source": [
    "# 분류기 학습\n",
    "classifier.fit(X_train, y_train)\n",
    "\n",
    "# 예측\n",
    "y_pred= classifier.predict(X_test)\n",
    "print(y_pred)"
   ]
  },
  {
   "cell_type": "code",
   "execution_count": 9,
   "metadata": {},
   "outputs": [
    {
     "name": "stdout",
     "output_type": "stream",
     "text": [
      "[[1072    0]\n",
      " [   0  959]]\n"
     ]
    }
   ],
   "source": [
    "# 작은 이원교차표\n",
    "from sklearn.metrics import confusion_matrix\n",
    "conf_matrix= confusion_matrix(y_test, y_pred)\n",
    "print(conf_matrix)    "
   ]
  },
  {
   "cell_type": "code",
   "execution_count": 10,
   "metadata": {},
   "outputs": [
    {
     "name": "stdout",
     "output_type": "stream",
     "text": [
      "              precision    recall  f1-score   support\n",
      "\n",
      "           0       1.00      1.00      1.00      1072\n",
      "           1       1.00      1.00      1.00       959\n",
      "\n",
      "    accuracy                           1.00      2031\n",
      "   macro avg       1.00      1.00      1.00      2031\n",
      "weighted avg       1.00      1.00      1.00      2031\n",
      "\n"
     ]
    }
   ],
   "source": [
    "# 정밀도 , 재현율, f1 score 확인 \n",
    "from sklearn.metrics import classification_report\n",
    "report = classification_report(y_test, y_pred)\n",
    "print(report)"
   ]
  },
  {
   "cell_type": "code",
   "execution_count": 11,
   "metadata": {},
   "outputs": [
    {
     "name": "stdout",
     "output_type": "stream",
     "text": [
      "1.0\n"
     ]
    }
   ],
   "source": [
    "# 정확도 확인하는 코드 \n",
    "from sklearn.metrics import accuracy_score\n",
    "accuracy = accuracy_score( y_test, y_pred)\n",
    "print(accuracy)  #  1.0   Decision tree \n",
    "                 #  0.9497   MultinomialNB\n",
    "                 #  0.9615   GaussianNB\n",
    "                 #  0.9350   BernoulliNB"
   ]
  },
  {
   "cell_type": "code",
   "execution_count": null,
   "metadata": {},
   "outputs": [],
   "source": []
  }
 ],
 "metadata": {
  "kernelspec": {
   "display_name": "Python 3",
   "language": "python",
   "name": "python3"
  },
  "language_info": {
   "codemirror_mode": {
    "name": "ipython",
    "version": 3
   },
   "file_extension": ".py",
   "mimetype": "text/x-python",
   "name": "python",
   "nbconvert_exporter": "python",
   "pygments_lexer": "ipython3",
   "version": "3.8.5"
  }
 },
 "nbformat": 4,
 "nbformat_minor": 4
}
