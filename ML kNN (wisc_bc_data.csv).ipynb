{
 "cells": [
  {
   "cell_type": "code",
   "execution_count": 5,
   "metadata": {},
   "outputs": [
    {
     "name": "stdout",
     "output_type": "stream",
     "text": [
      "(569, 32)\n",
      "<class 'pandas.core.frame.DataFrame'>\n",
      "RangeIndex: 569 entries, 0 to 568\n",
      "Data columns (total 32 columns):\n",
      " #   Column             Non-Null Count  Dtype  \n",
      "---  ------             --------------  -----  \n",
      " 0   id                 569 non-null    int64  \n",
      " 1   diagnosis          569 non-null    object \n",
      " 2   radius_mean        569 non-null    float64\n",
      " 3   texture_mean       569 non-null    float64\n",
      " 4   perimeter_mean     569 non-null    float64\n",
      " 5   area_mean          569 non-null    float64\n",
      " 6   smoothness_mean    569 non-null    float64\n",
      " 7   compactness_mean   569 non-null    float64\n",
      " 8   concavity_mean     569 non-null    float64\n",
      " 9   points_mean        569 non-null    float64\n",
      " 10  symmetry_mean      569 non-null    float64\n",
      " 11  dimension_mean     569 non-null    float64\n",
      " 12  radius_se          569 non-null    float64\n",
      " 13  texture_se         569 non-null    float64\n",
      " 14  perimeter_se       569 non-null    float64\n",
      " 15  area_se            569 non-null    float64\n",
      " 16  smoothness_se      569 non-null    float64\n",
      " 17  compactness_se     569 non-null    float64\n",
      " 18  concavity_se       569 non-null    float64\n",
      " 19  points_se          569 non-null    float64\n",
      " 20  symmetry_se        569 non-null    float64\n",
      " 21  dimension_se       569 non-null    float64\n",
      " 22  radius_worst       569 non-null    float64\n",
      " 23  texture_worst      569 non-null    float64\n",
      " 24  perimeter_worst    569 non-null    float64\n",
      " 25  area_worst         569 non-null    float64\n",
      " 26  smoothness_worst   569 non-null    float64\n",
      " 27  compactness_worst  569 non-null    float64\n",
      " 28  concavity_worst    569 non-null    float64\n",
      " 29  points_worst       569 non-null    float64\n",
      " 30  symmetry_worst     569 non-null    float64\n",
      " 31  dimension_worst    569 non-null    float64\n",
      "dtypes: float64(30), int64(1), object(1)\n",
      "memory usage: 142.4+ KB\n",
      "None\n",
      "                 id  radius_mean  texture_mean  perimeter_mean    area_mean  \\\n",
      "count  5.690000e+02   569.000000    569.000000      569.000000   569.000000   \n",
      "mean   3.037183e+07    14.127292     19.289649       91.969033   654.889104   \n",
      "std    1.250206e+08     3.524049      4.301036       24.298981   351.914129   \n",
      "min    8.670000e+03     6.981000      9.710000       43.790000   143.500000   \n",
      "25%    8.692180e+05    11.700000     16.170000       75.170000   420.300000   \n",
      "50%    9.060240e+05    13.370000     18.840000       86.240000   551.100000   \n",
      "75%    8.813129e+06    15.780000     21.800000      104.100000   782.700000   \n",
      "max    9.113205e+08    28.110000     39.280000      188.500000  2501.000000   \n",
      "\n",
      "       smoothness_mean  compactness_mean  concavity_mean  points_mean  \\\n",
      "count       569.000000        569.000000      569.000000   569.000000   \n",
      "mean          0.096360          0.104341        0.088799     0.048919   \n",
      "std           0.014064          0.052813        0.079720     0.038803   \n",
      "min           0.052630          0.019380        0.000000     0.000000   \n",
      "25%           0.086370          0.064920        0.029560     0.020310   \n",
      "50%           0.095870          0.092630        0.061540     0.033500   \n",
      "75%           0.105300          0.130400        0.130700     0.074000   \n",
      "max           0.163400          0.345400        0.426800     0.201200   \n",
      "\n",
      "       symmetry_mean  ...  radius_worst  texture_worst  perimeter_worst  \\\n",
      "count     569.000000  ...    569.000000     569.000000       569.000000   \n",
      "mean        0.181162  ...     16.269190      25.677223       107.261213   \n",
      "std         0.027414  ...      4.833242       6.146258        33.602542   \n",
      "min         0.106000  ...      7.930000      12.020000        50.410000   \n",
      "25%         0.161900  ...     13.010000      21.080000        84.110000   \n",
      "50%         0.179200  ...     14.970000      25.410000        97.660000   \n",
      "75%         0.195700  ...     18.790000      29.720000       125.400000   \n",
      "max         0.304000  ...     36.040000      49.540000       251.200000   \n",
      "\n",
      "        area_worst  smoothness_worst  compactness_worst  concavity_worst  \\\n",
      "count   569.000000        569.000000         569.000000       569.000000   \n",
      "mean    880.583128          0.132369           0.254265         0.272188   \n",
      "std     569.356993          0.022832           0.157336         0.208624   \n",
      "min     185.200000          0.071170           0.027290         0.000000   \n",
      "25%     515.300000          0.116600           0.147200         0.114500   \n",
      "50%     686.500000          0.131300           0.211900         0.226700   \n",
      "75%    1084.000000          0.146000           0.339100         0.382900   \n",
      "max    4254.000000          0.222600           1.058000         1.252000   \n",
      "\n",
      "       points_worst  symmetry_worst  dimension_worst  \n",
      "count    569.000000      569.000000       569.000000  \n",
      "mean       0.114606        0.290076         0.083946  \n",
      "std        0.065732        0.061867         0.018061  \n",
      "min        0.000000        0.156500         0.055040  \n",
      "25%        0.064930        0.250400         0.071460  \n",
      "50%        0.099930        0.282200         0.080040  \n",
      "75%        0.161400        0.317900         0.092080  \n",
      "max        0.291000        0.663800         0.207500  \n",
      "\n",
      "[8 rows x 31 columns]\n"
     ]
    }
   ],
   "source": [
    "import pandas as pd \n",
    "import seaborn as sns \n",
    "\n",
    "df = pd.read_csv(\"c:\\\\data\\\\wisc_bc_data.csv\") \n",
    "\n",
    "# DataFrame 확인\n",
    "print(df.shape)\n",
    "print(df.info()) \n",
    "print(df.describe())"
   ]
  },
  {
   "cell_type": "code",
   "execution_count": 6,
   "metadata": {},
   "outputs": [
    {
     "name": "stdout",
     "output_type": "stream",
     "text": [
      "         id diagnosis  radius_mean  texture_mean  perimeter_mean  area_mean  \\\n",
      "0  87139402         B        12.32         12.39           78.85      464.1   \n",
      "1   8910251         B        10.60         18.95           69.28      346.4   \n",
      "2    905520         B        11.04         16.83           70.92      373.2   \n",
      "3    868871         B        11.28         13.39           73.00      384.8   \n",
      "4   9012568         B        15.19         13.21           97.65      711.8   \n",
      "\n",
      "   smoothness_mean  compactness_mean  concavity_mean  points_mean  ...  \\\n",
      "0          0.10280           0.06981         0.03987      0.03700  ...   \n",
      "1          0.09688           0.11470         0.06387      0.02642  ...   \n",
      "2          0.10770           0.07804         0.03046      0.02480  ...   \n",
      "3          0.11640           0.11360         0.04635      0.04796  ...   \n",
      "4          0.07963           0.06934         0.03393      0.02657  ...   \n",
      "\n",
      "   radius_worst  texture_worst  perimeter_worst  area_worst  smoothness_worst  \\\n",
      "0         13.50          15.64            86.97       549.1            0.1385   \n",
      "1         11.88          22.94            78.28       424.8            0.1213   \n",
      "2         12.41          26.44            79.93       471.4            0.1369   \n",
      "3         11.92          15.77            76.53       434.0            0.1367   \n",
      "4         16.20          15.73           104.50       819.1            0.1126   \n",
      "\n",
      "   compactness_worst  concavity_worst  points_worst  symmetry_worst  \\\n",
      "0             0.1266          0.12420       0.09391          0.2827   \n",
      "1             0.2515          0.19160       0.07926          0.2940   \n",
      "2             0.1482          0.10670       0.07431          0.2998   \n",
      "3             0.1822          0.08669       0.08611          0.2102   \n",
      "4             0.1737          0.13620       0.08178          0.2487   \n",
      "\n",
      "   dimension_worst  \n",
      "0          0.06771  \n",
      "1          0.07587  \n",
      "2          0.07881  \n",
      "3          0.06784  \n",
      "4          0.06766  \n",
      "\n",
      "[5 rows x 32 columns]\n",
      "            id diagnosis  radius_mean  texture_mean  perimeter_mean  \\\n",
      "564  911320502         B        13.17         18.22           84.28   \n",
      "565     898677         B        10.26         14.71           66.20   \n",
      "566     873885         M        15.28         22.41           98.92   \n",
      "567     911201         B        14.53         13.98           93.86   \n",
      "568    9012795         M        21.37         15.10          141.30   \n",
      "\n",
      "     area_mean  smoothness_mean  compactness_mean  concavity_mean  \\\n",
      "564      537.3          0.07466           0.05994         0.04859   \n",
      "565      321.6          0.09882           0.09159         0.03581   \n",
      "566      710.6          0.09057           0.10520         0.05375   \n",
      "567      644.2          0.10990           0.09242         0.06895   \n",
      "568     1386.0          0.10010           0.15150         0.19320   \n",
      "\n",
      "     points_mean  ...  radius_worst  texture_worst  perimeter_worst  \\\n",
      "564      0.02870  ...         14.90          23.89            95.10   \n",
      "565      0.02037  ...         10.88          19.48            70.89   \n",
      "566      0.03263  ...         17.80          28.03           113.80   \n",
      "567      0.06495  ...         15.80          16.93           103.10   \n",
      "568      0.12550  ...         22.69          21.84           152.10   \n",
      "\n",
      "     area_worst  smoothness_worst  compactness_worst  concavity_worst  \\\n",
      "564       687.6            0.1282             0.1965          0.18760   \n",
      "565       357.1            0.1360             0.1636          0.07162   \n",
      "566       973.1            0.1301             0.3299          0.36300   \n",
      "567       749.9            0.1347             0.1478          0.13730   \n",
      "568      1535.0            0.1192             0.2840          0.40240   \n",
      "\n",
      "     points_worst  symmetry_worst  dimension_worst  \n",
      "564       0.10450          0.2235          0.06925  \n",
      "565       0.04074          0.2434          0.08488  \n",
      "566       0.12260          0.3175          0.09772  \n",
      "567       0.10690          0.2606          0.07810  \n",
      "568       0.19660          0.2730          0.08666  \n",
      "\n",
      "[5 rows x 32 columns]\n",
      "            id diagnosis\n",
      "0     87139402         B\n",
      "1      8910251         B\n",
      "2       905520         B\n",
      "3       868871         B\n",
      "4      9012568         B\n",
      "..         ...       ...\n",
      "564  911320502         B\n",
      "565     898677         B\n",
      "566     873885         M\n",
      "567     911201         B\n",
      "568    9012795         M\n",
      "\n",
      "[569 rows x 2 columns]\n",
      "            id diagnosis  radius_mean  texture_mean  perimeter_mean  \\\n",
      "0     87139402         B        12.32         12.39           78.85   \n",
      "1      8910251         B        10.60         18.95           69.28   \n",
      "2       905520         B        11.04         16.83           70.92   \n",
      "3       868871         B        11.28         13.39           73.00   \n",
      "4      9012568         B        15.19         13.21           97.65   \n",
      "..         ...       ...          ...           ...             ...   \n",
      "564  911320502         B        13.17         18.22           84.28   \n",
      "565     898677         B        10.26         14.71           66.20   \n",
      "566     873885         M        15.28         22.41           98.92   \n",
      "567     911201         B        14.53         13.98           93.86   \n",
      "568    9012795         M        21.37         15.10          141.30   \n",
      "\n",
      "     area_mean  smoothness_mean  compactness_mean  concavity_mean  \\\n",
      "0        464.1          0.10280           0.06981         0.03987   \n",
      "1        346.4          0.09688           0.11470         0.06387   \n",
      "2        373.2          0.10770           0.07804         0.03046   \n",
      "3        384.8          0.11640           0.11360         0.04635   \n",
      "4        711.8          0.07963           0.06934         0.03393   \n",
      "..         ...              ...               ...             ...   \n",
      "564      537.3          0.07466           0.05994         0.04859   \n",
      "565      321.6          0.09882           0.09159         0.03581   \n",
      "566      710.6          0.09057           0.10520         0.05375   \n",
      "567      644.2          0.10990           0.09242         0.06895   \n",
      "568     1386.0          0.10010           0.15150         0.19320   \n",
      "\n",
      "     points_mean  ...  radius_worst  texture_worst  perimeter_worst  \\\n",
      "0        0.03700  ...         13.50          15.64            86.97   \n",
      "1        0.02642  ...         11.88          22.94            78.28   \n",
      "2        0.02480  ...         12.41          26.44            79.93   \n",
      "3        0.04796  ...         11.92          15.77            76.53   \n",
      "4        0.02657  ...         16.20          15.73           104.50   \n",
      "..           ...  ...           ...            ...              ...   \n",
      "564      0.02870  ...         14.90          23.89            95.10   \n",
      "565      0.02037  ...         10.88          19.48            70.89   \n",
      "566      0.03263  ...         17.80          28.03           113.80   \n",
      "567      0.06495  ...         15.80          16.93           103.10   \n",
      "568      0.12550  ...         22.69          21.84           152.10   \n",
      "\n",
      "     area_worst  smoothness_worst  compactness_worst  concavity_worst  \\\n",
      "0         549.1            0.1385             0.1266          0.12420   \n",
      "1         424.8            0.1213             0.2515          0.19160   \n",
      "2         471.4            0.1369             0.1482          0.10670   \n",
      "3         434.0            0.1367             0.1822          0.08669   \n",
      "4         819.1            0.1126             0.1737          0.13620   \n",
      "..          ...               ...                ...              ...   \n",
      "564       687.6            0.1282             0.1965          0.18760   \n",
      "565       357.1            0.1360             0.1636          0.07162   \n",
      "566       973.1            0.1301             0.3299          0.36300   \n",
      "567       749.9            0.1347             0.1478          0.13730   \n",
      "568      1535.0            0.1192             0.2840          0.40240   \n",
      "\n",
      "     points_worst  symmetry_worst  dimension_worst  \n",
      "0         0.09391          0.2827          0.06771  \n",
      "1         0.07926          0.2940          0.07587  \n",
      "2         0.07431          0.2998          0.07881  \n",
      "3         0.08611          0.2102          0.06784  \n",
      "4         0.08178          0.2487          0.06766  \n",
      "..            ...             ...              ...  \n",
      "564       0.10450          0.2235          0.06925  \n",
      "565       0.04074          0.2434          0.08488  \n",
      "566       0.12260          0.3175          0.09772  \n",
      "567       0.10690          0.2606          0.07810  \n",
      "568       0.19660          0.2730          0.08666  \n",
      "\n",
      "[569 rows x 32 columns]\n"
     ]
    }
   ],
   "source": [
    "print(df.iloc[0:5, ]) \n",
    "print(df.iloc[-5: ,])\n",
    "\n",
    "print(df.iloc[ :, [0,1] ]) \n",
    "print(df.iloc[ :, : ]) "
   ]
  },
  {
   "cell_type": "code",
   "execution_count": 7,
   "metadata": {},
   "outputs": [
    {
     "name": "stdout",
     "output_type": "stream",
     "text": [
      "(569, 32)\n"
     ]
    }
   ],
   "source": [
    "#%%\n",
    "\n",
    "# X = 전체 행, 마지막 열 제외한 모든 열 데이터 -> n차원 공간의 포인트\n",
    "X = df.iloc[:, 2:].to_numpy() \n",
    "y = df['diagnosis'].to_numpy()   \n",
    "\n",
    "print(df.shape)\n",
    "                    "
   ]
  },
  {
   "cell_type": "code",
   "execution_count": 8,
   "metadata": {},
   "outputs": [],
   "source": [
    "from sklearn import preprocessing \n",
    "X=preprocessing.StandardScaler().fit(X).transform(X) \n"
   ]
  },
  {
   "cell_type": "code",
   "execution_count": 9,
   "metadata": {},
   "outputs": [
    {
     "name": "stdout",
     "output_type": "stream",
     "text": [
      "(398, 30)\n",
      "(398,)\n"
     ]
    }
   ],
   "source": [
    "\n",
    "from sklearn.model_selection import train_test_split \n",
    "                                                                \n",
    "                     \n",
    "# 훈련 데이터 70, 테스트 데이터 30으로 나눈다. \n",
    "X_train, X_test, y_train, y_test = train_test_split(X,y,test_size =0.3, random_state = 10)\n",
    "\n",
    "print(X_train.shape) \n",
    "print(y_train.shape) \n"
   ]
  },
  {
   "cell_type": "code",
   "execution_count": 10,
   "metadata": {},
   "outputs": [
    {
     "name": "stdout",
     "output_type": "stream",
     "text": [
      "평균 = -0.04236386611612179, 표준편차= 0.9823199764297084\n",
      "평균 = -0.026468988492404984, 표준편차= 0.9992699584982397\n",
      "평균 = -0.04486992263549647, 표준편차= 0.9797413763706516\n",
      "평균 = -0.040052991664378236, 표준편차= 0.9845418716843576\n",
      "평균 = 0.09860127903050526, 표준편차= 1.0332826894145961\n",
      "평균 = 0.0616061837425541, 표준편차= 0.998985037997365\n",
      "평균 = 0.10443408894109663, 표준편차= 1.038150107005553\n",
      "평균 = 0.09322275252878608, 표준편차= 1.0290659076476931\n"
     ]
    }
   ],
   "source": [
    "#%%\n",
    "\n",
    "# 스케일링(z-score 표준화 수행 결과 확인)\n",
    "for col in range(4):\n",
    "    print(f'평균 = {X_train[:, col].mean()}, 표준편차= {X_train[:, col].std()}')\n",
    "    \n",
    "for col in range(4):\n",
    "    print(f'평균 = {X_test[:, col].mean()}, 표준편차= {X_test[:, col].std()}')\n"
   ]
  },
  {
   "cell_type": "code",
   "execution_count": 11,
   "metadata": {},
   "outputs": [],
   "source": [
    "# 학습/예측(Training/Pradiction)\n",
    "from sklearn.neighbors import KNeighborsClassifier\n",
    "\n",
    "# k-NN 분류기를 생성\n",
    "classifier = KNeighborsClassifier(n_neighbors=5)\n"
   ]
  },
  {
   "cell_type": "code",
   "execution_count": 12,
   "metadata": {},
   "outputs": [
    {
     "data": {
      "text/plain": [
       "KNeighborsClassifier()"
      ]
     },
     "execution_count": 12,
     "metadata": {},
     "output_type": "execute_result"
    }
   ],
   "source": [
    "# 분류기 학습\n",
    "classifier.fit(X_train, y_train)"
   ]
  },
  {
   "cell_type": "code",
   "execution_count": 13,
   "metadata": {},
   "outputs": [
    {
     "name": "stdout",
     "output_type": "stream",
     "text": [
      "['M' 'B' 'B' 'B' 'M' 'B' 'B' 'B' 'M' 'B' 'B' 'M' 'M' 'B' 'M' 'M' 'B' 'B'\n",
      " 'B' 'M' 'M' 'M' 'B' 'M' 'M' 'B' 'B' 'M' 'M' 'M' 'B' 'B' 'M' 'M' 'B' 'B'\n",
      " 'B' 'B' 'B' 'B' 'B' 'M' 'B' 'B' 'B' 'B' 'B' 'M' 'M' 'B' 'B' 'B' 'B' 'B'\n",
      " 'M' 'M' 'M' 'B' 'M' 'B' 'B' 'M' 'B' 'M' 'M' 'B' 'M' 'B' 'B' 'M' 'M' 'M'\n",
      " 'B' 'M' 'B' 'B' 'B' 'M' 'M' 'B' 'M' 'M' 'B' 'B' 'B' 'M' 'M' 'B' 'B' 'B'\n",
      " 'B' 'B' 'B' 'B' 'B' 'B' 'B' 'B' 'B' 'B' 'M' 'B' 'B' 'B' 'B' 'M' 'B' 'B'\n",
      " 'M' 'M' 'M' 'B' 'B' 'M' 'B' 'M' 'B' 'B' 'M' 'M' 'M' 'M' 'B' 'M' 'M' 'M'\n",
      " 'B' 'B' 'M' 'M' 'B' 'B' 'B' 'M' 'B' 'B' 'B' 'B' 'B' 'B' 'B' 'M' 'M' 'M'\n",
      " 'M' 'B' 'B' 'M' 'B' 'B' 'B' 'B' 'M' 'B' 'B' 'B' 'B' 'M' 'M' 'M' 'B' 'M'\n",
      " 'M' 'M' 'M' 'B' 'B' 'B' 'B' 'B' 'M']\n"
     ]
    }
   ],
   "source": [
    "# 예측\n",
    "y_pred= classifier.predict(X_test)\n",
    "print(y_pred)"
   ]
  },
  {
   "cell_type": "code",
   "execution_count": 14,
   "metadata": {},
   "outputs": [
    {
     "name": "stdout",
     "output_type": "stream",
     "text": [
      "[[97  1]\n",
      " [ 5 68]]\n"
     ]
    }
   ],
   "source": [
    "# 모델 평가\n",
    "from sklearn.metrics import confusion_matrix\n",
    "conf_matrix= confusion_matrix(y_test, y_pred)\n",
    "print(conf_matrix)    "
   ]
  },
  {
   "cell_type": "code",
   "execution_count": 15,
   "metadata": {},
   "outputs": [
    {
     "name": "stdout",
     "output_type": "stream",
     "text": [
      "              precision    recall  f1-score   support\n",
      "\n",
      "           B       0.95      0.99      0.97        98\n",
      "           M       0.99      0.93      0.96        73\n",
      "\n",
      "    accuracy                           0.96       171\n",
      "   macro avg       0.97      0.96      0.96       171\n",
      "weighted avg       0.97      0.96      0.96       171\n",
      "\n"
     ]
    }
   ],
   "source": [
    "# 이원 교차표 보는 코드 \n",
    "from sklearn.metrics import classification_report\n",
    "report = classification_report(y_test, y_pred)\n",
    "print(report)"
   ]
  },
  {
   "cell_type": "code",
   "execution_count": 16,
   "metadata": {},
   "outputs": [
    {
     "name": "stdout",
     "output_type": "stream",
     "text": [
      "0.9649122807017544\n"
     ]
    }
   ],
   "source": [
    "# 정확도 확인하는 코드 \n",
    "from sklearn.metrics import accuracy_score\n",
    "accuracy = accuracy_score( y_test, y_pred)\n",
    "print(accuracy)"
   ]
  },
  {
   "cell_type": "code",
   "execution_count": null,
   "metadata": {},
   "outputs": [],
   "source": []
  }
 ],
 "metadata": {
  "kernelspec": {
   "display_name": "Python 3",
   "language": "python",
   "name": "python3"
  },
  "language_info": {
   "codemirror_mode": {
    "name": "ipython",
    "version": 3
   },
   "file_extension": ".py",
   "mimetype": "text/x-python",
   "name": "python",
   "nbconvert_exporter": "python",
   "pygments_lexer": "ipython3",
   "version": "3.8.5"
  }
 },
 "nbformat": 4,
 "nbformat_minor": 4
}
