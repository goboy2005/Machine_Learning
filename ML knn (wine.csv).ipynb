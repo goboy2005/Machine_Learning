{
 "cells": [
  {
   "cell_type": "code",
   "execution_count": 4,
   "metadata": {},
   "outputs": [
    {
     "name": "stdout",
     "output_type": "stream",
     "text": [
      "    Type  Alcohol  Malic   Ash  Alcalinity  Magnesium  Phenols  Flavanoids  \\\n",
      "0     t1    14.23   1.71  2.43        15.6        127     2.80        3.06   \n",
      "1     t1    13.20   1.78  2.14        11.2        100     2.65        2.76   \n",
      "2     t1    13.16   2.36  2.67        18.6        101     2.80        3.24   \n",
      "3     t1    14.37   1.95  2.50        16.8        113     3.85        3.49   \n",
      "4     t1    13.24   2.59  2.87        21.0        118     2.80        2.69   \n",
      "..   ...      ...    ...   ...         ...        ...      ...         ...   \n",
      "173   t3    13.71   5.65  2.45        20.5         95     1.68        0.61   \n",
      "174   t3    13.40   3.91  2.48        23.0        102     1.80        0.75   \n",
      "175   t3    13.27   4.28  2.26        20.0        120     1.59        0.69   \n",
      "176   t3    13.17   2.59  2.37        20.0        120     1.65        0.68   \n",
      "177   t3    14.13   4.10  2.74        24.5         96     2.05        0.76   \n",
      "\n",
      "     Nonflavanoids  Proanthocyanins  Color   Hue  Dilution  Proline  \n",
      "0             0.28             2.29   5.64  1.04      3.92     1065  \n",
      "1             0.26             1.28   4.38  1.05      3.40     1050  \n",
      "2             0.30             2.81   5.68  1.03      3.17     1185  \n",
      "3             0.24             2.18   7.80  0.86      3.45     1480  \n",
      "4             0.39             1.82   4.32  1.04      2.93      735  \n",
      "..             ...              ...    ...   ...       ...      ...  \n",
      "173           0.52             1.06   7.70  0.64      1.74      740  \n",
      "174           0.43             1.41   7.30  0.70      1.56      750  \n",
      "175           0.43             1.35  10.20  0.59      1.56      835  \n",
      "176           0.53             1.46   9.30  0.60      1.62      840  \n",
      "177           0.56             1.35   9.20  0.61      1.60      560  \n",
      "\n",
      "[178 rows x 14 columns]\n"
     ]
    }
   ],
   "source": [
    "import pandas as pd  # 데이터 전처리를 위해서 \n",
    "import seaborn as sns # 시각화를 위해서 \n",
    "\n",
    "df = pd.read_csv('c:\\\\data\\\\wine.csv')\n",
    "print(df)"
   ]
  },
  {
   "cell_type": "code",
   "execution_count": 5,
   "metadata": {},
   "outputs": [
    {
     "name": "stdout",
     "output_type": "stream",
     "text": [
      "(178, 14)\n",
      "<class 'pandas.core.frame.DataFrame'>\n",
      "RangeIndex: 178 entries, 0 to 177\n",
      "Data columns (total 14 columns):\n",
      " #   Column           Non-Null Count  Dtype  \n",
      "---  ------           --------------  -----  \n",
      " 0   Type             178 non-null    object \n",
      " 1   Alcohol          178 non-null    float64\n",
      " 2   Malic            178 non-null    float64\n",
      " 3   Ash              178 non-null    float64\n",
      " 4   Alcalinity       178 non-null    float64\n",
      " 5   Magnesium        178 non-null    int64  \n",
      " 6   Phenols          178 non-null    float64\n",
      " 7   Flavanoids       178 non-null    float64\n",
      " 8   Nonflavanoids    178 non-null    float64\n",
      " 9   Proanthocyanins  178 non-null    float64\n",
      " 10  Color            178 non-null    float64\n",
      " 11  Hue              178 non-null    float64\n",
      " 12  Dilution         178 non-null    float64\n",
      " 13  Proline          178 non-null    int64  \n",
      "dtypes: float64(11), int64(2), object(1)\n",
      "memory usage: 19.6+ KB\n",
      "None\n",
      "          Alcohol       Malic         Ash  Alcalinity   Magnesium     Phenols  \\\n",
      "count  178.000000  178.000000  178.000000  178.000000  178.000000  178.000000   \n",
      "mean    13.000618    2.336348    2.366517   19.494944   99.741573    2.295112   \n",
      "std      0.811827    1.117146    0.274344    3.339564   14.282484    0.625851   \n",
      "min     11.030000    0.740000    1.360000   10.600000   70.000000    0.980000   \n",
      "25%     12.362500    1.602500    2.210000   17.200000   88.000000    1.742500   \n",
      "50%     13.050000    1.865000    2.360000   19.500000   98.000000    2.355000   \n",
      "75%     13.677500    3.082500    2.557500   21.500000  107.000000    2.800000   \n",
      "max     14.830000    5.800000    3.230000   30.000000  162.000000    3.880000   \n",
      "\n",
      "       Flavanoids  Nonflavanoids  Proanthocyanins       Color         Hue  \\\n",
      "count  178.000000     178.000000       178.000000  178.000000  178.000000   \n",
      "mean     2.029270       0.361854         1.590899    5.058090    0.957449   \n",
      "std      0.998859       0.124453         0.572359    2.318286    0.228572   \n",
      "min      0.340000       0.130000         0.410000    1.280000    0.480000   \n",
      "25%      1.205000       0.270000         1.250000    3.220000    0.782500   \n",
      "50%      2.135000       0.340000         1.555000    4.690000    0.965000   \n",
      "75%      2.875000       0.437500         1.950000    6.200000    1.120000   \n",
      "max      5.080000       0.660000         3.580000   13.000000    1.710000   \n",
      "\n",
      "         Dilution      Proline  \n",
      "count  178.000000   178.000000  \n",
      "mean     2.611685   746.893258  \n",
      "std      0.709990   314.907474  \n",
      "min      1.270000   278.000000  \n",
      "25%      1.937500   500.500000  \n",
      "50%      2.780000   673.500000  \n",
      "75%      3.170000   985.000000  \n",
      "max      4.000000  1680.000000  \n"
     ]
    }
   ],
   "source": [
    "# DataFrame 확인\n",
    "print(df.shape)  # (178, 14)\n",
    "print(df.info())  # Type 이 라벨 컬럼 입니다. \n",
    "print(df.describe()) # 요약 통계정보를 확인한다. "
   ]
  },
  {
   "cell_type": "code",
   "execution_count": 6,
   "metadata": {},
   "outputs": [
    {
     "name": "stdout",
     "output_type": "stream",
     "text": [
      "(178, 14)\n",
      "178\n",
      "178\n"
     ]
    }
   ],
   "source": [
    "# X = 전체 행, 마지막 열 제외한 모든 열 데이터 -> n차원 공간의 포인트\n",
    "X = df.iloc[:, 1:].to_numpy() \n",
    "y = df['Type'].to_numpy()   \n",
    "\n",
    "print(df.shape)  # (174, 14)\n",
    "print(len(X))  # 178\n",
    "print(len(y))  # 178"
   ]
  },
  {
   "cell_type": "code",
   "execution_count": 7,
   "metadata": {},
   "outputs": [],
   "source": [
    "# 정규화 진행                     \n",
    "from sklearn import preprocessing \n",
    "\n",
    "#X=preprocessing.StandardScaler().fit(X).transform(X) \n",
    "X=preprocessing.MinMaxScaler().fit(X).transform(X) "
   ]
  },
  {
   "cell_type": "code",
   "execution_count": 8,
   "metadata": {},
   "outputs": [
    {
     "name": "stdout",
     "output_type": "stream",
     "text": [
      "(160, 13)\n",
      "(160,)\n"
     ]
    }
   ],
   "source": [
    "from sklearn.model_selection import train_test_split \n",
    "                                                                \n",
    "# 훈련 데이터 90, 테스트 데이터 10으로 나눈다. \n",
    "X_train, X_test, y_train, y_test = train_test_split(X,y,test_size=0.1, random_state = 10)\n",
    "\n",
    "print(X_train.shape) # (160, 13)\n",
    "print(y_train.shape) # (160, )"
   ]
  },
  {
   "cell_type": "code",
   "execution_count": 10,
   "metadata": {},
   "outputs": [
    {
     "name": "stdout",
     "output_type": "stream",
     "text": [
      "mean = 0.5180098684210528, std= 0.21175577410451685\n",
      "mean = 0.32440711462450594, std= 0.22276113616543985\n",
      "mean = 0.5519719251336898, std= 0.13646540172925498\n",
      "mean = 0.46990979381443304, std= 0.16861549573199347\n",
      "mean = 0.523684210526316, std= 0.22404511648272968\n",
      "mean = 0.23616600790513834, std= 0.17670687066728705\n",
      "mean = 0.41622103386809267, std= 0.1718849088337324\n",
      "mean = 0.3571019473081328, std= 0.16501829094638318\n"
     ]
    }
   ],
   "source": [
    "# 스케일링(z-score 표준화 수행 결과 확인)\n",
    "for col in range(4):\n",
    "    print(f'mean = {X_train[:, col].mean()}, std= {X_train[:, col].std()}')\n",
    "    \n",
    "for col in range(4):\n",
    "    print(f'mean = {X_test[:, col].mean()}, std= {X_test[:, col].std()}')"
   ]
  },
  {
   "cell_type": "code",
   "execution_count": 11,
   "metadata": {},
   "outputs": [],
   "source": [
    "# 학습/예측(Training/Pradiction)\n",
    "from sklearn.neighbors import KNeighborsClassifier\n",
    "#from sklearn.naive_bayes import GaussianNB\n",
    "#from sklearn.naive_bayes import MultinomialNB"
   ]
  },
  {
   "cell_type": "code",
   "execution_count": 13,
   "metadata": {},
   "outputs": [
    {
     "name": "stdout",
     "output_type": "stream",
     "text": [
      "['t2' 't2' 't1' 't2' 't1' 't2' 't2' 't1' 't3' 't1' 't1' 't2' 't1' 't2'\n",
      " 't2' 't2' 't3' 't2']\n"
     ]
    }
   ],
   "source": [
    "# 분류기 학습\n",
    "classifier.fit(X_train, y_train)\n",
    "\n",
    "# 예측\n",
    "y_pred= classifier.predict(X_test)\n",
    "print(y_pred)"
   ]
  },
  {
   "cell_type": "code",
   "execution_count": 14,
   "metadata": {},
   "outputs": [
    {
     "name": "stdout",
     "output_type": "stream",
     "text": [
      "[[ 6  0  0]\n",
      " [ 0 10  1]\n",
      " [ 0  0  1]]\n"
     ]
    }
   ],
   "source": [
    "# 작은 이원교차표\n",
    "from sklearn.metrics import confusion_matrix\n",
    "conf_matrix= confusion_matrix(y_test, y_pred)\n",
    "print(conf_matrix)    \n"
   ]
  },
  {
   "cell_type": "code",
   "execution_count": 15,
   "metadata": {},
   "outputs": [
    {
     "name": "stdout",
     "output_type": "stream",
     "text": [
      "              precision    recall  f1-score   support\n",
      "\n",
      "          t1       1.00      1.00      1.00         6\n",
      "          t2       1.00      0.91      0.95        11\n",
      "          t3       0.50      1.00      0.67         1\n",
      "\n",
      "    accuracy                           0.94        18\n",
      "   macro avg       0.83      0.97      0.87        18\n",
      "weighted avg       0.97      0.94      0.95        18\n",
      "\n"
     ]
    }
   ],
   "source": [
    "# 정밀도 , 재현율, f1 score 확인 \n",
    "from sklearn.metrics import classification_report\n",
    "report = classification_report(y_test, y_pred)\n",
    "print(report)\n"
   ]
  },
  {
   "cell_type": "code",
   "execution_count": 16,
   "metadata": {},
   "outputs": [
    {
     "name": "stdout",
     "output_type": "stream",
     "text": [
      "0.9444444444444444\n"
     ]
    }
   ],
   "source": [
    "# 정확도 확인하는 코드 \n",
    "from sklearn.metrics import accuracy_score\n",
    "accuracy = accuracy_score( y_test, y_pred)\n",
    "print(accuracy)  "
   ]
  },
  {
   "cell_type": "code",
   "execution_count": null,
   "metadata": {},
   "outputs": [],
   "source": []
  }
 ],
 "metadata": {
  "kernelspec": {
   "display_name": "Python 3",
   "language": "python",
   "name": "python3"
  },
  "language_info": {
   "codemirror_mode": {
    "name": "ipython",
    "version": 3
   },
   "file_extension": ".py",
   "mimetype": "text/x-python",
   "name": "python",
   "nbconvert_exporter": "python",
   "pygments_lexer": "ipython3",
   "version": "3.8.5"
  }
 },
 "nbformat": 4,
 "nbformat_minor": 4
}
