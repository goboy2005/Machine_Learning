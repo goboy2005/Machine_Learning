{
 "cells": [
  {
   "cell_type": "code",
   "execution_count": 1,
   "metadata": {},
   "outputs": [
    {
     "name": "stdout",
     "output_type": "stream",
     "text": [
      "(150, 5)\n",
      "<class 'pandas.core.frame.DataFrame'>\n",
      "RangeIndex: 150 entries, 0 to 149\n",
      "Data columns (total 5 columns):\n",
      " #   Column        Non-Null Count  Dtype  \n",
      "---  ------        --------------  -----  \n",
      " 0   sepal-length  150 non-null    float64\n",
      " 1   sepal-width   150 non-null    float64\n",
      " 2   petal-length  150 non-null    float64\n",
      " 3   petal-width   150 non-null    float64\n",
      " 4   Class         150 non-null    object \n",
      "dtypes: float64(4), object(1)\n",
      "memory usage: 6.0+ KB\n",
      "None\n",
      "       sepal-length  sepal-width  petal-length  petal-width\n",
      "count    150.000000   150.000000    150.000000   150.000000\n",
      "mean       5.843333     3.054000      3.758667     1.198667\n",
      "std        0.828066     0.433594      1.764420     0.763161\n",
      "min        4.300000     2.000000      1.000000     0.100000\n",
      "25%        5.100000     2.800000      1.600000     0.300000\n",
      "50%        5.800000     3.000000      4.350000     1.300000\n",
      "75%        6.400000     3.300000      5.100000     1.800000\n",
      "max        7.900000     4.400000      6.900000     2.500000\n"
     ]
    }
   ],
   "source": [
    "import matplotlib.pyplot as plt\n",
    "from sklearn.neighbors import KNeighborsClassifier\n",
    "from sklearn.model_selection import train_test_split\n",
    "from sklearn import metrics\n",
    "import numpy as np\n",
    "import pandas  as pd\n",
    "\n",
    "# 1. 데이터 준비\n",
    "col_names = ['sepal-length', 'sepal-width','petal-length', 'petal-width','Class']\n",
    "\n",
    "# csv 파일에서 DataFrame을 생성\n",
    "dataset = pd.read_csv('c:\\\\data\\\\iris2.csv', encoding='UTF-8', header=None, names=col_names)\n",
    "#print(dataset)\n",
    "\n",
    "# DataFrame 확인\n",
    "print(dataset.shape) # (row개수, column개수)\n",
    "print(dataset.info()) # 데이터 타입, row 개수, column 개수, 컬럼 데이터 타입\n",
    "print(dataset.describe()) # 요약 통계 정보"
   ]
  },
  {
   "cell_type": "code",
   "execution_count": 2,
   "metadata": {},
   "outputs": [
    {
     "name": "stdout",
     "output_type": "stream",
     "text": [
      "   sepal-length  sepal-width  petal-length  petal-width        Class\n",
      "0           5.1          3.5           1.4          0.2  Iris-setosa\n",
      "1           4.9          3.0           1.4          0.2  Iris-setosa\n",
      "2           4.7          3.2           1.3          0.2  Iris-setosa\n",
      "3           4.6          3.1           1.5          0.2  Iris-setosa\n",
      "4           5.0          3.6           1.4          0.2  Iris-setosa\n",
      "     sepal-length  sepal-width  petal-length  petal-width           Class\n",
      "145           6.7          3.0           5.2          2.3  Iris-virginica\n",
      "146           6.3          2.5           5.0          1.9  Iris-virginica\n",
      "147           6.5          3.0           5.2          2.0  Iris-virginica\n",
      "148           6.2          3.4           5.4          2.3  Iris-virginica\n",
      "149           5.9          3.0           5.1          1.8  Iris-virginica\n"
     ]
    }
   ],
   "source": [
    "print(dataset.iloc[0:5]) # dataset.head()\n",
    "print(dataset.iloc[-5:]) # dataset.tail()\n",
    "\n",
    "# X = 전체 행, 마지막 열 제외한 모든 열 데이터 -> n차원 공간의 포인트\n",
    "X = dataset.iloc[:,:-1].to_numpy() # DataFrame을 np.ndarray로 변환\n",
    "#print(X)\n",
    "\n",
    "# 전체 데이터 세트를 학습 세트(training set)와 검증 세트(test set)로 나눔\n",
    "# y = 전체 행, 마지막 열 데이터\n",
    "y = dataset.iloc[:, 4].to_numpy()\n",
    "#print(y)"
   ]
  },
  {
   "cell_type": "code",
   "execution_count": 3,
   "metadata": {},
   "outputs": [
    {
     "name": "stdout",
     "output_type": "stream",
     "text": [
      "120 30\n",
      "[[5.  2.  3.5 1. ]\n",
      " [5.1 3.8 1.5 0.3]\n",
      " [6.5 2.8 4.6 1.5]]\n",
      "['Iris-versicolor' 'Iris-setosa' 'Iris-versicolor']\n"
     ]
    }
   ],
   "source": [
    "\n",
    "# 데이터 분리 \n",
    "from sklearn.model_selection import train_test_split\n",
    "\n",
    "# 전체 데이터 세트를 학습 세트(training set)와 검증 세트(test set)로 나눔\n",
    "X_train, X_test, y_train, y_test = train_test_split(X, y, test_size=0.2)\n",
    "print(len(X_train), len(X_test))\n",
    "\n",
    "print(X_train[:3])\n",
    "print(y_train[:3])\n",
    "\n"
   ]
  },
  {
   "cell_type": "code",
   "execution_count": 4,
   "metadata": {},
   "outputs": [
    {
     "name": "stdout",
     "output_type": "stream",
     "text": [
      "평균 = 3.4416913763379853e-15, 표준편차= 1.0\n",
      "평균 = 3.745152336402195e-15, 표준편차= 1.0000000000000002\n",
      "평균 = -5.033011044967376e-16, 표준편차= 1.0\n",
      "평균 = -6.217248937900876e-16, 표준편차= 1.0000000000000002\n",
      "평균 = 0.020368161843753153, 표준편차= 1.0420937625282416\n",
      "평균 = -0.19816580751596774, 표준편차= 0.8172895094689272\n",
      "평균 = 0.05728997790806529, 표준편차= 0.9524896326508745\n",
      "평균 = 0.07233654043450034, 표준편차= 0.9226149734297693\n"
     ]
    }
   ],
   "source": [
    "# 3. 거리 계산을 위해서 각 특성들을 스케일링(표준화)\n",
    "# Z-score 표준화: 평균을 0, 표준편차 1로 변환\n",
    "\n",
    "from sklearn.preprocessing import StandardScaler\n",
    "\n",
    "# 3. 거리 계산을 위해서 각 특성들을 스케일링(표준화)\n",
    "# Z-score 표준화: 평균을 0, 표준편차 1로 변환\n",
    "scaler = StandardScaler() # Scaler 객체 생성\n",
    "scaler.fit(X_train) # 스케일링(표준화)를 위한 평균과 표준 편차 계산\n",
    "X_train = scaler.transform(X_train) # 스케일링(표준화 수행)\n",
    "X_test = scaler.transform(X_test)\n",
    "\n",
    "# 스케일링(z-score 표준화 수행 결과 확인)\n",
    "for col in range(4):\n",
    "    print(f'평균 = {X_train[:, col].mean()}, 표준편차= {X_train[:, col].std()}')\n",
    "    \n",
    "for col in range(4):\n",
    "    print(f'평균 = {X_test[:, col].mean()}, 표준편차= {X_test[:, col].std()}')    \n"
   ]
  },
  {
   "cell_type": "code",
   "execution_count": 10,
   "metadata": {},
   "outputs": [],
   "source": [
    "# 4. 학습/예측(Training/Pradiction)\n",
    "from sklearn.neighbors import KNeighborsClassifier\n",
    "\n",
    "# k-NN 분류기를 생성\n",
    "classifier = KNeighborsClassifier(n_neighbors=30)"
   ]
  },
  {
   "cell_type": "code",
   "execution_count": 11,
   "metadata": {},
   "outputs": [
    {
     "name": "stdout",
     "output_type": "stream",
     "text": [
      "['Iris-versicolor' 'Iris-setosa' 'Iris-virginica' 'Iris-versicolor'\n",
      " 'Iris-versicolor' 'Iris-versicolor' 'Iris-virginica' 'Iris-virginica'\n",
      " 'Iris-virginica' 'Iris-versicolor' 'Iris-setosa' 'Iris-virginica'\n",
      " 'Iris-versicolor' 'Iris-versicolor' 'Iris-versicolor' 'Iris-versicolor'\n",
      " 'Iris-versicolor' 'Iris-setosa' 'Iris-setosa' 'Iris-versicolor'\n",
      " 'Iris-setosa' 'Iris-virginica' 'Iris-setosa' 'Iris-versicolor'\n",
      " 'Iris-virginica' 'Iris-setosa' 'Iris-versicolor' 'Iris-versicolor'\n",
      " 'Iris-virginica' 'Iris-setosa']\n"
     ]
    }
   ],
   "source": [
    "# 분류기 학습\n",
    "classifier.fit(X_train, y_train)\n",
    "\n",
    "# 예측\n",
    "y_pred= classifier.predict(X_test)\n",
    "print(y_pred)"
   ]
  },
  {
   "cell_type": "code",
   "execution_count": 12,
   "metadata": {},
   "outputs": [
    {
     "name": "stdout",
     "output_type": "stream",
     "text": [
      "[[ 8  0  0]\n",
      " [ 0 13  0]\n",
      " [ 0  1  8]]\n"
     ]
    }
   ],
   "source": [
    "#5. 모델 평가\n",
    "from sklearn.metrics import confusion_matrix\n",
    "conf_matrix= confusion_matrix(y_test, y_pred)\n",
    "print(conf_matrix)"
   ]
  },
  {
   "cell_type": "code",
   "execution_count": 13,
   "metadata": {},
   "outputs": [
    {
     "name": "stdout",
     "output_type": "stream",
     "text": [
      "                 precision    recall  f1-score   support\n",
      "\n",
      "    Iris-setosa       1.00      1.00      1.00         8\n",
      "Iris-versicolor       0.93      1.00      0.96        13\n",
      " Iris-virginica       1.00      0.89      0.94         9\n",
      "\n",
      "       accuracy                           0.97        30\n",
      "      macro avg       0.98      0.96      0.97        30\n",
      "   weighted avg       0.97      0.97      0.97        30\n",
      "\n"
     ]
    }
   ],
   "source": [
    "\n",
    "# 대각선에 있는 숫자가 정답을 맞춘 것, 그 외가 틀린 것\n",
    "\n",
    "from sklearn.metrics import classification_report\n",
    "report = classification_report(y_test, y_pred)\n",
    "print(report)"
   ]
  },
  {
   "cell_type": "code",
   "execution_count": 14,
   "metadata": {},
   "outputs": [
    {
     "name": "stdout",
     "output_type": "stream",
     "text": [
      "[0.0, 0.0, 0.0, 0.0, 0.0, 0.0, 0.0, 0.0, 0.0, 0.0, 0.0, 0.0, 0.0, 0.0, 0.0, 0.0, 0.0, 0.0, 0.0, 0.0, 0.0, 0.0, 0.0, 0.0, 0.0, 0.0, 0.0, 0.0, 0.0, 0.03333333333333333]\n"
     ]
    },
    {
     "data": {
      "image/png": "[encoded data removed]",
      "text/plain": [
       "<Figure size 432x288 with 1 Axes>"
      ]
     },
     "metadata": {
      "needs_background": "light"
     },
     "output_type": "display_data"
    }
   ],
   "source": [
    "import numpy as np\n",
    "    \n",
    "# 6. 모델 개선 - k값을 변화시킬 때, 에러가 줄어드는 지\n",
    "errors = []\n",
    "for i in range(1, 31):\n",
    "    knn = KNeighborsClassifier(n_neighbors = i)\n",
    "    knn.fit(X_train, y_train)\n",
    "    pred_i = knn.predict(X_test)\n",
    "    errors.append(np.mean(pred_i != y_test))\n",
    "print(errors)\n",
    "\n",
    "# 여기서 에러가 가장 적은 것을 선택\n",
    "\n",
    "\n",
    "import matplotlib.pyplot as plt\n",
    "\n",
    "plt.plot(range(1, 31), errors, marker='o')\n",
    "plt.title('Mean error with K-Value')\n",
    "plt.xlabel('k-value')\n",
    "plt.ylabel('mean error')\n",
    "plt.show()\n",
    "\n"
   ]
  },
  {
   "cell_type": "code",
   "execution_count": null,
   "metadata": {},
   "outputs": [],
   "source": []
  }
 ],
 "metadata": {
  "kernelspec": {
   "display_name": "Python 3",
   "language": "python",
   "name": "python3"
  },
  "language_info": {
   "codemirror_mode": {
    "name": "ipython",
    "version": 3
   },
   "file_extension": ".py",
   "mimetype": "text/x-python",
   "name": "python",
   "nbconvert_exporter": "python",
   "pygments_lexer": "ipython3",
   "version": "3.8.5"
  }
 },
 "nbformat": 4,
 "nbformat_minor": 4
}
